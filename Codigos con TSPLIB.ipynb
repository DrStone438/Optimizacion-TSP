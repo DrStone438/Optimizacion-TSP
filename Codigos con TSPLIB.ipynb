{
 "cells": [
  {
   "cell_type": "code",
   "execution_count": null,
   "id": "930932b4",
   "metadata": {},
   "outputs": [],
   "source": [
    "import tsplib95\n",
    "\n",
    "# Carga el problema desde un archivo\n",
    "problem = tsplib95.load('berlin52.tsp')\n",
    "\n",
    "# Accede a los nodos\n",
    "nodos = list(problem.get_nodes())\n",
    "print(nodos)\n",
    "\n",
    "# Accede a la distancia entre nodos\n",
    "distancia = problem.get_weight(1, 2)\n",
    "print(distancia)"
   ]
  }
 ],
 "metadata": {
  "language_info": {
   "name": "python"
  }
 },
 "nbformat": 4,
 "nbformat_minor": 5
}
