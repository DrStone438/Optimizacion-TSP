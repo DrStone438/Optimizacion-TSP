{
 "cells": [
  {
   "cell_type": "markdown",
   "id": "dde27ba5",
   "metadata": {},
   "source": [
    "# Primer Github\n",
    "[GitHub](https://github.com/dmishin/tsp-solver)\n"
   ]
  },
  {
   "cell_type": "code",
   "execution_count": 5,
   "id": "930932b4",
   "metadata": {},
   "outputs": [
    {
     "name": "stdout",
     "output_type": "stream",
     "text": [
      "[1, 2, 3, 4, 5, 6, 7, 8, 9, 10, 11, 12, 13, 14, 15, 16, 17, 18, 19, 20, 21, 22, 23, 24, 25, 26, 27, 28, 29, 30, 31, 32, 33, 34, 35, 36, 37, 38, 39, 40, 41, 42, 43, 44, 45, 46, 47, 48, 49, 50, 51, 52]\n",
      "666\n"
     ]
    }
   ],
   "source": [
    "import tsplib95\n",
    "\n",
    "# Carga el problema desde un archivo\n",
    "problem = tsplib95.load('berlin52.tsp')\n",
    "\n",
    "# Accede a los nodos\n",
    "nodos = list(problem.get_nodes())\n",
    "print(nodos)\n",
    "\n",
    "# Accede a la distancia entre nodos\n",
    "distancia = problem.get_weight(1, 2)\n",
    "print(distancia)"
   ]
  },
  {
   "cell_type": "code",
   "execution_count": 6,
   "id": "ab897bbd",
   "metadata": {},
   "outputs": [
    {
     "name": "stdout",
     "output_type": "stream",
     "text": [
      "La resolución del TSP tomó 0.0064 segundos.\n",
      "[1, 6, 41, 20, 16, 2, 40, 8, 9, 7, 18, 44, 31, 48, 0, 21, 30, 17, 22, 29, 28, 19, 49, 15, 45, 43, 33, 34, 35, 38, 36, 39, 37, 47, 23, 4, 14, 5, 3, 24, 42, 32, 10, 50, 11, 27, 26, 25, 46, 13, 12, 51]\n",
      "[2, 7, 42, 21, 17, 3, 41, 9, 10, 8, 19, 45, 32, 49, 1, 22, 31, 18, 23, 30, 29, 20, 50, 16, 46, 44, 34, 35, 36, 39, 37, 40, 38, 48, 24, 5, 15, 6, 4, 25, 43, 33, 11, 51, 12, 28, 27, 26, 47, 14, 13, 52]\n",
      "Longitud total de la ruta: 7640.0\n"
     ]
    }
   ],
   "source": [
    "from tsp_solver.greedy import solve_tsp\n",
    "import tsplib95\n",
    "import numpy as np\n",
    "import time\n",
    "\n",
    "# Carga el problema desde el archivo TSPLIB\n",
    "try:\n",
    "    problem = tsplib95.load('berlin52.tsp')\n",
    "except FileNotFoundError:\n",
    "    print(\"Error: El archivo TSPLIB no fue encontrado.\")\n",
    "    exit()\n",
    "\n",
    "# Obtiene la lista de nodos\n",
    "nodos = list(problem.get_nodes())\n",
    "num_nodos = len(nodos)\n",
    "\n",
    "# Crea una matriz de distancias vacía\n",
    "dist_matrix = np.zeros((num_nodos, num_nodos))\n",
    "\n",
    "# Llena la matriz de distancias usando la información del problema TSPLIB\n",
    "for i in range(num_nodos):\n",
    "    for j in range(i + 1, num_nodos):\n",
    "        u = nodos[i]\n",
    "        v = nodos[j]\n",
    "        distance = problem.get_weight(u, v)\n",
    "        dist_matrix[i, j] = distance\n",
    "        dist_matrix[j, i] = distance  # La distancia es simétrica\n",
    "\n",
    "# Marca el tiempo de inicio justo antes de la parte que quieres medir\n",
    "start_time = time.time()\n",
    "\n",
    "# Resuelve el TSP usando la matriz de distancias\n",
    "path = solve_tsp(dist_matrix)\n",
    "\n",
    "# Marca el tiempo de finalización justo después de la parte que quieres medir\n",
    "end_time = time.time()\n",
    "\n",
    "# Calcula el tiempo transcurrido\n",
    "execution_time = end_time - start_time\n",
    "\n",
    "# Imprime el tiempo de ejecución\n",
    "print(f\"La resolución del TSP tomó {execution_time:.4f} segundos.\")\n",
    "\n",
    "\n",
    "# Imprime la ruta resultante (los índices corresponden al orden en la lista de nodos)\n",
    "print(path)\n",
    "\n",
    "# Si quieres los nombres originales de los nodos en la ruta:\n",
    "nombres_ruta = [nodos[i] for i in path]\n",
    "print(nombres_ruta)\n",
    "\n",
    "# Opcional: Calcula la longitud total de la ruta\n",
    "total_distance = 0\n",
    "for i in range(len(path) - 1):\n",
    "    u_index = path[i]\n",
    "    v_index = path[i + 1]\n",
    "    total_distance += dist_matrix[u_index, v_index]\n",
    "# Agrega la distancia de vuelta al inicio para un ciclo completo si es necesario\n",
    "# total_distance += dist_matrix[path[-1], path[0]]\n",
    "print(f\"Longitud total de la ruta: {total_distance}\")"
   ]
  },
  {
   "cell_type": "markdown",
   "id": "9a42582a",
   "metadata": {},
   "source": [
    "# Segundo Github\n",
    "\n",
    "http://github.com/chenmingxiang110/tsp_solver"
   ]
  }
 ],
 "metadata": {
  "kernelspec": {
   "display_name": "Python 3",
   "language": "python",
   "name": "python3"
  },
  "language_info": {
   "codemirror_mode": {
    "name": "ipython",
    "version": 3
   },
   "file_extension": ".py",
   "mimetype": "text/x-python",
   "name": "python",
   "nbconvert_exporter": "python",
   "pygments_lexer": "ipython3",
   "version": "3.13.3"
  }
 },
 "nbformat": 4,
 "nbformat_minor": 5
}
